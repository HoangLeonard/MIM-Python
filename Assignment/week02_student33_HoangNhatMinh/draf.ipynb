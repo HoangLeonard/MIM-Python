{
 "cells": [
  {
   "cell_type": "code",
   "execution_count": 2,
   "metadata": {},
   "outputs": [
    {
     "name": "stdout",
     "output_type": "stream",
     "text": [
      "week01_assignment01_HoangNhatMinh\n",
      "week110_assignment1100_TranTuanVu\n",
      "week110_assignment120_HoangHaiAnh\n",
      "error\n"
     ]
    }
   ],
   "source": [
    "def namingAssignments(studentName: str, week: int, assignment: int) :\n",
    "    # kết quả gồm 3 thành phần s w a ta chuyển hết về str để thuận tiện cho việc ghép nối\n",
    "    s = studentName.upper()\n",
    "    s = studentName.strip()\n",
    "    s = studentName.title().replace(' ', '')\n",
    "    w = ''\n",
    "    a = ''\n",
    "    \n",
    "    if ( 0 < week < 10 ) : w = 'week0' + str(week)\n",
    "    elif week >= 10 : w = 'week1' + str(week)\n",
    "    else : return \"error\"\n",
    "\n",
    "    if ( 0 < assignment < 10 ) : a = 'assignment0' + str(assignment)\n",
    "    elif assignment >= 10 : a = 'assignment1' + str(assignment)\n",
    "    else : return \"error\"\n",
    "\n",
    "    return w + '_' + a + '_' + s\n",
    "\n",
    "print(namingAssignments('hoang nhat minh', 1, 1)) #week01_assignment01_HoangNhatMinh\n",
    "print(namingAssignments(' tran tUan   vu ', 10, 100)) #week10_assignment100_TranTuanVu\n",
    "print(namingAssignments('hoAng Hai aNh ', 10, 20)) #week10_assignment100_HoangHaiAnh\n",
    "print(namingAssignments('hoAng Hai aNh ', 10, -20)) #error"
   ]
  },
  {
   "cell_type": "code",
   "execution_count": 3,
   "metadata": {},
   "outputs": [
    {
     "data": {
      "text/plain": [
       "'\\nprint (encodeROT13(\"A\")) # N\\nprint (encodeROT13(encodeROT13(\"A\"))) # A\\n'"
      ]
     },
     "execution_count": 3,
     "metadata": {},
     "output_type": "execute_result"
    }
   ],
   "source": [
    "\"\"\"\n",
    "encodeDict = {} #dictionary mã hóa (chuyển từ kí tự sang sô)\n",
    "decryptionDict = {} #dictionary giải mã (chuyển từ số sang kí tự)\n",
    "lowerOverFlowOf26 = []\n",
    "\n",
    "for i in range(65, 91):\n",
    "    tmp = chr(i) \n",
    "    encodeDict[tmp] = i-65\n",
    "    decryptionDict[i-65] = tmp\n",
    "    lowerOverFlowOf26.append(i-65)\n",
    "    \n",
    "\n",
    "def encodeROT13(originalCode : str) :\n",
    "    originalCode = str.upper(originalCode)\n",
    "    encryptedCode = ''\n",
    "    n = len(originalCode)\n",
    "    for i in range(n) :\n",
    "        tmp = decryptionDict[lowerOverFlowOf26[encodeDict[originalCode[i]] - 13]]\n",
    "        encryptedCode = encryptedCode + tmp\n",
    "    return encryptedCode\n",
    "\n",
    "\"\"\"\n",
    "\"\"\"\n",
    "def decryptionROT13(encryptedCode : str) :\n",
    "    originalCode = ''\n",
    "    n = len(encryptedCode) \n",
    "    for i in range(n) :\n",
    "        tmp = decryptionDict[encodeDict[encryptedCode[i]] - 13] # error key not found\n",
    "        originalCode = originalCode + tmp\n",
    "    return originalCode\n",
    "\"\"\"\n",
    "\"\"\"\n",
    "print (encodeROT13(\"A\")) # N\n",
    "print (encodeROT13(encodeROT13(\"A\"))) # A\n",
    "\"\"\""
   ]
  },
  {
   "cell_type": "code",
   "execution_count": 18,
   "metadata": {},
   "outputs": [
    {
     "name": "stdout",
     "output_type": "stream",
     "text": [
      "[('lorem', 'iopsum', 'dolor', 'sit', 'amet'), ('lorem', 'iopsum', 'dolor', 'amet', 'sit'), ('lorem', 'iopsum', 'sit', 'dolor', 'amet'), ('lorem', 'iopsum', 'sit', 'amet', 'dolor'), ('lorem', 'iopsum', 'amet', 'dolor', 'sit'), ('lorem', 'iopsum', 'amet', 'sit', 'dolor'), ('lorem', 'dolor', 'iopsum', 'sit', 'amet'), ('lorem', 'dolor', 'iopsum', 'amet', 'sit'), ('lorem', 'dolor', 'sit', 'iopsum', 'amet'), ('lorem', 'dolor', 'sit', 'amet', 'iopsum'), ('lorem', 'dolor', 'amet', 'iopsum', 'sit'), ('lorem', 'dolor', 'amet', 'sit', 'iopsum'), ('lorem', 'sit', 'iopsum', 'dolor', 'amet'), ('lorem', 'sit', 'iopsum', 'amet', 'dolor'), ('lorem', 'sit', 'dolor', 'iopsum', 'amet'), ('lorem', 'sit', 'dolor', 'amet', 'iopsum'), ('lorem', 'sit', 'amet', 'iopsum', 'dolor'), ('lorem', 'sit', 'amet', 'dolor', 'iopsum'), ('lorem', 'amet', 'iopsum', 'dolor', 'sit'), ('lorem', 'amet', 'iopsum', 'sit', 'dolor'), ('lorem', 'amet', 'dolor', 'iopsum', 'sit'), ('lorem', 'amet', 'dolor', 'sit', 'iopsum'), ('lorem', 'amet', 'sit', 'iopsum', 'dolor'), ('lorem', 'amet', 'sit', 'dolor', 'iopsum'), ('iopsum', 'lorem', 'dolor', 'sit', 'amet'), ('iopsum', 'lorem', 'dolor', 'amet', 'sit'), ('iopsum', 'lorem', 'sit', 'dolor', 'amet'), ('iopsum', 'lorem', 'sit', 'amet', 'dolor'), ('iopsum', 'lorem', 'amet', 'dolor', 'sit'), ('iopsum', 'lorem', 'amet', 'sit', 'dolor'), ('iopsum', 'dolor', 'lorem', 'sit', 'amet'), ('iopsum', 'dolor', 'lorem', 'amet', 'sit'), ('iopsum', 'dolor', 'sit', 'lorem', 'amet'), ('iopsum', 'dolor', 'sit', 'amet', 'lorem'), ('iopsum', 'dolor', 'amet', 'lorem', 'sit'), ('iopsum', 'dolor', 'amet', 'sit', 'lorem'), ('iopsum', 'sit', 'lorem', 'dolor', 'amet'), ('iopsum', 'sit', 'lorem', 'amet', 'dolor'), ('iopsum', 'sit', 'dolor', 'lorem', 'amet'), ('iopsum', 'sit', 'dolor', 'amet', 'lorem'), ('iopsum', 'sit', 'amet', 'lorem', 'dolor'), ('iopsum', 'sit', 'amet', 'dolor', 'lorem'), ('iopsum', 'amet', 'lorem', 'dolor', 'sit'), ('iopsum', 'amet', 'lorem', 'sit', 'dolor'), ('iopsum', 'amet', 'dolor', 'lorem', 'sit'), ('iopsum', 'amet', 'dolor', 'sit', 'lorem'), ('iopsum', 'amet', 'sit', 'lorem', 'dolor'), ('iopsum', 'amet', 'sit', 'dolor', 'lorem'), ('dolor', 'lorem', 'iopsum', 'sit', 'amet'), ('dolor', 'lorem', 'iopsum', 'amet', 'sit'), ('dolor', 'lorem', 'sit', 'iopsum', 'amet'), ('dolor', 'lorem', 'sit', 'amet', 'iopsum'), ('dolor', 'lorem', 'amet', 'iopsum', 'sit'), ('dolor', 'lorem', 'amet', 'sit', 'iopsum'), ('dolor', 'iopsum', 'lorem', 'sit', 'amet'), ('dolor', 'iopsum', 'lorem', 'amet', 'sit'), ('dolor', 'iopsum', 'sit', 'lorem', 'amet'), ('dolor', 'iopsum', 'sit', 'amet', 'lorem'), ('dolor', 'iopsum', 'amet', 'lorem', 'sit'), ('dolor', 'iopsum', 'amet', 'sit', 'lorem'), ('dolor', 'sit', 'lorem', 'iopsum', 'amet'), ('dolor', 'sit', 'lorem', 'amet', 'iopsum'), ('dolor', 'sit', 'iopsum', 'lorem', 'amet'), ('dolor', 'sit', 'iopsum', 'amet', 'lorem'), ('dolor', 'sit', 'amet', 'lorem', 'iopsum'), ('dolor', 'sit', 'amet', 'iopsum', 'lorem'), ('dolor', 'amet', 'lorem', 'iopsum', 'sit'), ('dolor', 'amet', 'lorem', 'sit', 'iopsum'), ('dolor', 'amet', 'iopsum', 'lorem', 'sit'), ('dolor', 'amet', 'iopsum', 'sit', 'lorem'), ('dolor', 'amet', 'sit', 'lorem', 'iopsum'), ('dolor', 'amet', 'sit', 'iopsum', 'lorem'), ('sit', 'lorem', 'iopsum', 'dolor', 'amet'), ('sit', 'lorem', 'iopsum', 'amet', 'dolor'), ('sit', 'lorem', 'dolor', 'iopsum', 'amet'), ('sit', 'lorem', 'dolor', 'amet', 'iopsum'), ('sit', 'lorem', 'amet', 'iopsum', 'dolor'), ('sit', 'lorem', 'amet', 'dolor', 'iopsum'), ('sit', 'iopsum', 'lorem', 'dolor', 'amet'), ('sit', 'iopsum', 'lorem', 'amet', 'dolor'), ('sit', 'iopsum', 'dolor', 'lorem', 'amet'), ('sit', 'iopsum', 'dolor', 'amet', 'lorem'), ('sit', 'iopsum', 'amet', 'lorem', 'dolor'), ('sit', 'iopsum', 'amet', 'dolor', 'lorem'), ('sit', 'dolor', 'lorem', 'iopsum', 'amet'), ('sit', 'dolor', 'lorem', 'amet', 'iopsum'), ('sit', 'dolor', 'iopsum', 'lorem', 'amet'), ('sit', 'dolor', 'iopsum', 'amet', 'lorem'), ('sit', 'dolor', 'amet', 'lorem', 'iopsum'), ('sit', 'dolor', 'amet', 'iopsum', 'lorem'), ('sit', 'amet', 'lorem', 'iopsum', 'dolor'), ('sit', 'amet', 'lorem', 'dolor', 'iopsum'), ('sit', 'amet', 'iopsum', 'lorem', 'dolor'), ('sit', 'amet', 'iopsum', 'dolor', 'lorem'), ('sit', 'amet', 'dolor', 'lorem', 'iopsum'), ('sit', 'amet', 'dolor', 'iopsum', 'lorem'), ('amet', 'lorem', 'iopsum', 'dolor', 'sit'), ('amet', 'lorem', 'iopsum', 'sit', 'dolor'), ('amet', 'lorem', 'dolor', 'iopsum', 'sit'), ('amet', 'lorem', 'dolor', 'sit', 'iopsum'), ('amet', 'lorem', 'sit', 'iopsum', 'dolor'), ('amet', 'lorem', 'sit', 'dolor', 'iopsum'), ('amet', 'iopsum', 'lorem', 'dolor', 'sit'), ('amet', 'iopsum', 'lorem', 'sit', 'dolor'), ('amet', 'iopsum', 'dolor', 'lorem', 'sit'), ('amet', 'iopsum', 'dolor', 'sit', 'lorem'), ('amet', 'iopsum', 'sit', 'lorem', 'dolor'), ('amet', 'iopsum', 'sit', 'dolor', 'lorem'), ('amet', 'dolor', 'lorem', 'iopsum', 'sit'), ('amet', 'dolor', 'lorem', 'sit', 'iopsum'), ('amet', 'dolor', 'iopsum', 'lorem', 'sit'), ('amet', 'dolor', 'iopsum', 'sit', 'lorem'), ('amet', 'dolor', 'sit', 'lorem', 'iopsum'), ('amet', 'dolor', 'sit', 'iopsum', 'lorem'), ('amet', 'sit', 'lorem', 'iopsum', 'dolor'), ('amet', 'sit', 'lorem', 'dolor', 'iopsum'), ('amet', 'sit', 'iopsum', 'lorem', 'dolor'), ('amet', 'sit', 'iopsum', 'dolor', 'lorem'), ('amet', 'sit', 'dolor', 'lorem', 'iopsum'), ('amet', 'sit', 'dolor', 'iopsum', 'lorem')]\n"
     ]
    }
   ],
   "source": [
    "from itertools import permutations, takewhile\n",
    "import string\n",
    "\n",
    "def contains_character(str):\n",
    "    substring = 'o'\n",
    "    if substring in str:\n",
    "        return True\n",
    "    else:\n",
    "        return False\n",
    "        \n",
    "string_list = ['lorem', 'iopsum', 'dolor', 'sit', 'amet']\n",
    "print(len(list(permutations(string_list))))\n"
   ]
  }
 ],
 "metadata": {
  "kernelspec": {
   "display_name": "Python 3.10.5 64-bit",
   "language": "python",
   "name": "python3"
  },
  "language_info": {
   "codemirror_mode": {
    "name": "ipython",
    "version": 3
   },
   "file_extension": ".py",
   "mimetype": "text/x-python",
   "name": "python",
   "nbconvert_exporter": "python",
   "pygments_lexer": "ipython3",
   "version": "3.10.5"
  },
  "orig_nbformat": 4,
  "vscode": {
   "interpreter": {
    "hash": "155199d2cf21a2f5cc2ff1031cf3ccc6a8663e54dfe1184100821a424c65a48f"
   }
  }
 },
 "nbformat": 4,
 "nbformat_minor": 2
}
